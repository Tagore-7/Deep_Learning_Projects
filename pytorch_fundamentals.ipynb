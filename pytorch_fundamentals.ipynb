{
  "nbformat": 4,
  "nbformat_minor": 0,
  "metadata": {
    "colab": {
      "provenance": [],
      "authorship_tag": "ABX9TyPZP4nrXAaaQ3gcc17CHdkP",
      "include_colab_link": true
    },
    "kernelspec": {
      "name": "python3",
      "display_name": "Python 3"
    },
    "language_info": {
      "name": "python"
    }
  },
  "cells": [
    {
      "cell_type": "markdown",
      "metadata": {
        "id": "view-in-github",
        "colab_type": "text"
      },
      "source": [
        "<a href=\"https://colab.research.google.com/github/Tagore-7/Deep_Learning_Projects/blob/main/pytorch_fundamentals.ipynb\" target=\"_parent\"><img src=\"https://colab.research.google.com/assets/colab-badge.svg\" alt=\"Open In Colab\"/></a>"
      ]
    },
    {
      "cell_type": "code",
      "execution_count": null,
      "metadata": {
        "colab": {
          "base_uri": "https://localhost:8080/"
        },
        "id": "fr335B6-vse7",
        "outputId": "ac9b7cc3-15f4-4aeb-cb81-c6389e9da547"
      },
      "outputs": [
        {
          "output_type": "stream",
          "name": "stdout",
          "text": [
            "2.6.0+cu124\n"
          ]
        }
      ],
      "source": [
        "import torch\n",
        "import pandas as pd\n",
        "import numpy as np\n",
        "import matplotlib.pyplot as plt\n",
        "print(torch.__version__)"
      ]
    },
    {
      "cell_type": "code",
      "source": [
        "# intro to tensors\n",
        "# creating tensor\n",
        "# scalar tensor\n",
        "# tenor can be created using torch.tensor\n",
        "scalar = torch.tensor(7)\n",
        "print(scalar)"
      ],
      "metadata": {
        "id": "7ZkBVMI6vwOu",
        "colab": {
          "base_uri": "https://localhost:8080/"
        },
        "outputId": "e6775981-2b6d-4c43-88a9-854501e817e4"
      },
      "execution_count": null,
      "outputs": [
        {
          "output_type": "stream",
          "name": "stdout",
          "text": [
            "tensor(7)\n"
          ]
        }
      ]
    },
    {
      "cell_type": "code",
      "source": [
        "# scalar characteristics\n",
        "# dimension\n",
        "scalar.ndim"
      ],
      "metadata": {
        "id": "GQa8dcRDvwJ9",
        "colab": {
          "base_uri": "https://localhost:8080/"
        },
        "outputId": "69a9c3b0-8d4d-4f43-85f6-bf7a808e6c71"
      },
      "execution_count": null,
      "outputs": [
        {
          "output_type": "execute_result",
          "data": {
            "text/plain": [
              "0"
            ]
          },
          "metadata": {},
          "execution_count": 3
        }
      ]
    },
    {
      "cell_type": "code",
      "source": [
        "# no dimension single number\n",
        "# get tensor back as python int\n",
        "scalar.item()"
      ],
      "metadata": {
        "id": "RzMRnoKcvwHY",
        "colab": {
          "base_uri": "https://localhost:8080/"
        },
        "outputId": "4ec91596-5265-4da5-cfe9-13ea8b5a07f6"
      },
      "execution_count": null,
      "outputs": [
        {
          "output_type": "execute_result",
          "data": {
            "text/plain": [
              "7"
            ]
          },
          "metadata": {},
          "execution_count": 4
        }
      ]
    },
    {
      "cell_type": "code",
      "source": [
        "# vector\n",
        "vector = torch.tensor([7, 7])\n",
        "vector"
      ],
      "metadata": {
        "id": "6s0gge0kvwEw",
        "colab": {
          "base_uri": "https://localhost:8080/"
        },
        "outputId": "44d39967-7258-45da-9cb3-c2bc89c60ace"
      },
      "execution_count": null,
      "outputs": [
        {
          "output_type": "execute_result",
          "data": {
            "text/plain": [
              "tensor([7, 7])"
            ]
          },
          "metadata": {},
          "execution_count": 5
        }
      ]
    },
    {
      "cell_type": "code",
      "source": [
        "vector.ndim"
      ],
      "metadata": {
        "id": "aSfP1fZxvwBq",
        "colab": {
          "base_uri": "https://localhost:8080/"
        },
        "outputId": "a051f4c7-6a70-4d7e-bca2-eb825e2cd272"
      },
      "execution_count": null,
      "outputs": [
        {
          "output_type": "execute_result",
          "data": {
            "text/plain": [
              "1"
            ]
          },
          "metadata": {},
          "execution_count": 6
        }
      ]
    },
    {
      "cell_type": "code",
      "source": [
        "vector.shape"
      ],
      "metadata": {
        "id": "NJAMOpn4vv-x",
        "colab": {
          "base_uri": "https://localhost:8080/"
        },
        "outputId": "54abf128-46bb-4034-fc74-6d4073cac494"
      },
      "execution_count": null,
      "outputs": [
        {
          "output_type": "execute_result",
          "data": {
            "text/plain": [
              "torch.Size([2])"
            ]
          },
          "metadata": {},
          "execution_count": 7
        }
      ]
    },
    {
      "cell_type": "code",
      "source": [
        "# MATRIX\n",
        "MATRIX = torch.tensor([[7, 8],\n",
        "                       [9, 10]])\n",
        "MATRIX"
      ],
      "metadata": {
        "id": "BuEMh4Flvv8a",
        "colab": {
          "base_uri": "https://localhost:8080/"
        },
        "outputId": "dbc976d1-c1dc-4e82-e8f7-d442730e94e5"
      },
      "execution_count": null,
      "outputs": [
        {
          "output_type": "execute_result",
          "data": {
            "text/plain": [
              "tensor([[ 7,  8],\n",
              "        [ 9, 10]])"
            ]
          },
          "metadata": {},
          "execution_count": 8
        }
      ]
    },
    {
      "cell_type": "code",
      "source": [
        "MATRIX.ndim"
      ],
      "metadata": {
        "id": "DpTdQULxvv58",
        "colab": {
          "base_uri": "https://localhost:8080/"
        },
        "outputId": "8b4004b4-ac74-4b33-e84f-e07fb94e9d8e"
      },
      "execution_count": null,
      "outputs": [
        {
          "output_type": "execute_result",
          "data": {
            "text/plain": [
              "2"
            ]
          },
          "metadata": {},
          "execution_count": 9
        }
      ]
    },
    {
      "cell_type": "code",
      "source": [
        "MATRIX[0]"
      ],
      "metadata": {
        "id": "HFRU83cKvv3f",
        "colab": {
          "base_uri": "https://localhost:8080/"
        },
        "outputId": "1b6bc0bd-ce45-430a-82aa-1904e4e16bf5"
      },
      "execution_count": null,
      "outputs": [
        {
          "output_type": "execute_result",
          "data": {
            "text/plain": [
              "tensor([7, 8])"
            ]
          },
          "metadata": {},
          "execution_count": 10
        }
      ]
    },
    {
      "cell_type": "code",
      "source": [
        "MATRIX[1]"
      ],
      "metadata": {
        "id": "QHLYYrW6vv0p",
        "colab": {
          "base_uri": "https://localhost:8080/"
        },
        "outputId": "8c5ea17a-50e0-4f89-db08-37c95b36f07e"
      },
      "execution_count": null,
      "outputs": [
        {
          "output_type": "execute_result",
          "data": {
            "text/plain": [
              "tensor([ 9, 10])"
            ]
          },
          "metadata": {},
          "execution_count": 11
        }
      ]
    },
    {
      "cell_type": "code",
      "source": [
        "MATRIX.shape"
      ],
      "metadata": {
        "id": "_pBf3JJpvvx_",
        "colab": {
          "base_uri": "https://localhost:8080/"
        },
        "outputId": "0f927f6f-8ab1-409b-c55c-d3cd509dd28d"
      },
      "execution_count": null,
      "outputs": [
        {
          "output_type": "execute_result",
          "data": {
            "text/plain": [
              "torch.Size([2, 2])"
            ]
          },
          "metadata": {},
          "execution_count": 12
        }
      ]
    },
    {
      "cell_type": "code",
      "source": [
        "# Tensor\n",
        "TENSOR = torch.tensor([[[1,2,3],\n",
        "                        [3, 6, 9],\n",
        "                        [2, 4, 5]]])\n",
        "TENSOR"
      ],
      "metadata": {
        "colab": {
          "base_uri": "https://localhost:8080/"
        },
        "id": "LXkSFypOJZpg",
        "outputId": "d0358742-96ce-4562-9e96-15ffc4a1e569"
      },
      "execution_count": null,
      "outputs": [
        {
          "output_type": "execute_result",
          "data": {
            "text/plain": [
              "tensor([[[1, 2, 3],\n",
              "         [3, 6, 9],\n",
              "         [2, 4, 5]]])"
            ]
          },
          "metadata": {},
          "execution_count": 13
        }
      ]
    },
    {
      "cell_type": "code",
      "source": [
        "TENSOR.ndim"
      ],
      "metadata": {
        "colab": {
          "base_uri": "https://localhost:8080/"
        },
        "id": "0DntFvqdJx5_",
        "outputId": "2ae8bb20-e0b0-4874-d64b-6b4817bf408e"
      },
      "execution_count": null,
      "outputs": [
        {
          "output_type": "execute_result",
          "data": {
            "text/plain": [
              "3"
            ]
          },
          "metadata": {},
          "execution_count": 14
        }
      ]
    },
    {
      "cell_type": "code",
      "source": [
        "TENSOR.shape"
      ],
      "metadata": {
        "colab": {
          "base_uri": "https://localhost:8080/"
        },
        "id": "_itrSgARJzym",
        "outputId": "f6a12bf5-f5dc-4cb4-827b-deaf3bdf7211"
      },
      "execution_count": null,
      "outputs": [
        {
          "output_type": "execute_result",
          "data": {
            "text/plain": [
              "torch.Size([1, 3, 3])"
            ]
          },
          "metadata": {},
          "execution_count": 15
        }
      ]
    },
    {
      "cell_type": "code",
      "source": [
        "TENSOR[0]"
      ],
      "metadata": {
        "colab": {
          "base_uri": "https://localhost:8080/"
        },
        "id": "aK3BseKBJzvc",
        "outputId": "f7627fd4-1588-4290-f58a-bec3db605857"
      },
      "execution_count": null,
      "outputs": [
        {
          "output_type": "execute_result",
          "data": {
            "text/plain": [
              "tensor([[1, 2, 3],\n",
              "        [3, 6, 9],\n",
              "        [2, 4, 5]])"
            ]
          },
          "metadata": {},
          "execution_count": 16
        }
      ]
    },
    {
      "cell_type": "code",
      "source": [
        "### Random tensors\n",
        "\n",
        "#why random tensors?\n",
        "# random tensors are important because many neural networs learn is that they start with with tensors full of random numbers\n",
        "# and then adujst those random numbers to better represent the data\n",
        "\n",
        "# start with random numbers -> look at the data  -> update random numbers -> loom at data -> update random numbers"
      ],
      "metadata": {
        "id": "dKzC98UoJzsE"
      },
      "execution_count": null,
      "outputs": []
    },
    {
      "cell_type": "code",
      "source": [
        "# create random tensor of size(3, 4)\n",
        "random_tensor = torch.rand(3, 4)\n",
        "random_tensor"
      ],
      "metadata": {
        "colab": {
          "base_uri": "https://localhost:8080/"
        },
        "id": "pp5m0FbEJzo2",
        "outputId": "ecfb4404-73bf-4e6c-e8f2-e4da0edb5c2c"
      },
      "execution_count": null,
      "outputs": [
        {
          "output_type": "execute_result",
          "data": {
            "text/plain": [
              "tensor([[0.5422, 0.1378, 0.8999, 0.5682],\n",
              "        [0.1922, 0.7268, 0.7536, 0.9023],\n",
              "        [0.4138, 0.8998, 0.3845, 0.5522]])"
            ]
          },
          "metadata": {},
          "execution_count": 20
        }
      ]
    },
    {
      "cell_type": "code",
      "source": [
        "random_tensor.ndim"
      ],
      "metadata": {
        "colab": {
          "base_uri": "https://localhost:8080/"
        },
        "id": "J1bHZ4IUJzlb",
        "outputId": "037dff7a-adfb-4a7a-b493-2d0aea571bce"
      },
      "execution_count": null,
      "outputs": [
        {
          "output_type": "execute_result",
          "data": {
            "text/plain": [
              "2"
            ]
          },
          "metadata": {},
          "execution_count": 21
        }
      ]
    },
    {
      "cell_type": "code",
      "source": [
        "# create a random tensor with similar shape to an image tensor\n",
        "random_image_size_tensor = torch.rand(size=(224, 224, 3)) # height, width, color channels (R, G, B)\n",
        "random_image_size_tensor"
      ],
      "metadata": {
        "colab": {
          "base_uri": "https://localhost:8080/"
        },
        "collapsed": true,
        "id": "pplaLfORJzh-",
        "outputId": "868cfac0-522a-4abd-f6db-b99e2f0c5990"
      },
      "execution_count": null,
      "outputs": [
        {
          "output_type": "execute_result",
          "data": {
            "text/plain": [
              "tensor([[[0.1527, 0.1547, 0.8522],\n",
              "         [0.2338, 0.8720, 0.0156],\n",
              "         [0.0655, 0.3991, 0.7054],\n",
              "         ...,\n",
              "         [0.1498, 0.7180, 0.7796],\n",
              "         [0.9708, 0.1327, 0.4454],\n",
              "         [0.6592, 0.3955, 0.4318]],\n",
              "\n",
              "        [[0.4195, 0.1217, 0.3932],\n",
              "         [0.0655, 0.4687, 0.6117],\n",
              "         [0.8717, 0.2475, 0.3070],\n",
              "         ...,\n",
              "         [0.2526, 0.7509, 0.1936],\n",
              "         [0.0323, 0.8408, 0.2273],\n",
              "         [0.8325, 0.3726, 0.2368]],\n",
              "\n",
              "        [[0.8317, 0.9969, 0.4893],\n",
              "         [0.8174, 0.5618, 0.6173],\n",
              "         [0.9662, 0.8003, 0.9408],\n",
              "         ...,\n",
              "         [0.2511, 0.5318, 0.0135],\n",
              "         [0.8979, 0.3357, 0.0465],\n",
              "         [0.6065, 0.9327, 0.0727]],\n",
              "\n",
              "        ...,\n",
              "\n",
              "        [[0.4316, 0.8825, 0.5243],\n",
              "         [0.4360, 0.8116, 0.2855],\n",
              "         [0.2742, 0.7391, 0.0124],\n",
              "         ...,\n",
              "         [0.2302, 0.5972, 0.1814],\n",
              "         [0.6162, 0.8623, 0.5368],\n",
              "         [0.6398, 0.2177, 0.8031]],\n",
              "\n",
              "        [[0.4942, 0.6296, 0.1858],\n",
              "         [0.1156, 0.1322, 0.2573],\n",
              "         [0.4999, 0.3125, 0.0309],\n",
              "         ...,\n",
              "         [0.3384, 0.4143, 0.6614],\n",
              "         [0.0485, 0.4060, 0.8137],\n",
              "         [0.6099, 0.4983, 0.3158]],\n",
              "\n",
              "        [[0.6024, 0.4529, 0.8459],\n",
              "         [0.3882, 0.9846, 0.9363],\n",
              "         [0.8178, 0.7310, 0.1645],\n",
              "         ...,\n",
              "         [0.2599, 0.6986, 0.1856],\n",
              "         [0.9301, 0.1019, 0.2040],\n",
              "         [0.9745, 0.8035, 0.0469]]])"
            ]
          },
          "metadata": {},
          "execution_count": 22
        }
      ]
    },
    {
      "cell_type": "code",
      "source": [
        "random_image_size_tensor.ndim"
      ],
      "metadata": {
        "colab": {
          "base_uri": "https://localhost:8080/"
        },
        "id": "I5_Muk_tJzes",
        "outputId": "5caecab7-f62d-4a6e-817c-c6dec57c5c72"
      },
      "execution_count": null,
      "outputs": [
        {
          "output_type": "execute_result",
          "data": {
            "text/plain": [
              "3"
            ]
          },
          "metadata": {},
          "execution_count": 23
        }
      ]
    },
    {
      "cell_type": "code",
      "source": [
        "### Zeros and ones\n",
        "# create a tensor of all zeros\n",
        "zeros = torch.zeros(size= (3,4))"
      ],
      "metadata": {
        "id": "NBL56Tx1Jzbe"
      },
      "execution_count": null,
      "outputs": []
    },
    {
      "cell_type": "code",
      "source": [
        "zeros"
      ],
      "metadata": {
        "colab": {
          "base_uri": "https://localhost:8080/"
        },
        "id": "l-YPK_qFJzYD",
        "outputId": "35b3a43a-53b2-4ff6-b2af-d5e6572984c4"
      },
      "execution_count": null,
      "outputs": [
        {
          "output_type": "execute_result",
          "data": {
            "text/plain": [
              "tensor([[0., 0., 0., 0.],\n",
              "        [0., 0., 0., 0.],\n",
              "        [0., 0., 0., 0.]])"
            ]
          },
          "metadata": {},
          "execution_count": 26
        }
      ]
    },
    {
      "cell_type": "code",
      "source": [
        "# create a tenosr of ones\n",
        "ones = torch.ones(size=(3, 4))\n",
        "ones"
      ],
      "metadata": {
        "colab": {
          "base_uri": "https://localhost:8080/"
        },
        "id": "WJ_T_VzYJzUy",
        "outputId": "9324ce43-159a-489e-ae0a-6629fc8b2f18"
      },
      "execution_count": null,
      "outputs": [
        {
          "output_type": "execute_result",
          "data": {
            "text/plain": [
              "tensor([[1., 1., 1., 1.],\n",
              "        [1., 1., 1., 1.],\n",
              "        [1., 1., 1., 1.]])"
            ]
          },
          "metadata": {},
          "execution_count": 27
        }
      ]
    },
    {
      "cell_type": "code",
      "source": [
        "ones.dtype"
      ],
      "metadata": {
        "colab": {
          "base_uri": "https://localhost:8080/"
        },
        "id": "sgAimzzgJzRy",
        "outputId": "eee236d9-a665-42a3-9121-983446097f37"
      },
      "execution_count": null,
      "outputs": [
        {
          "output_type": "execute_result",
          "data": {
            "text/plain": [
              "torch.float32"
            ]
          },
          "metadata": {},
          "execution_count": 28
        }
      ]
    },
    {
      "cell_type": "code",
      "source": [
        "# creating tensors in range\n",
        "torch.range(0, 10)"
      ],
      "metadata": {
        "colab": {
          "base_uri": "https://localhost:8080/"
        },
        "id": "rNbDy3yEJzOb",
        "outputId": "0b8e8bc1-f55c-40df-e2a4-8064a9b83ecf"
      },
      "execution_count": null,
      "outputs": [
        {
          "output_type": "stream",
          "name": "stderr",
          "text": [
            "<ipython-input-29-7602356ed85b>:2: UserWarning: torch.range is deprecated and will be removed in a future release because its behavior is inconsistent with Python's range builtin. Instead, use torch.arange, which produces values in [start, end).\n",
            "  torch.range(0, 10)\n"
          ]
        },
        {
          "output_type": "execute_result",
          "data": {
            "text/plain": [
              "tensor([ 0.,  1.,  2.,  3.,  4.,  5.,  6.,  7.,  8.,  9., 10.])"
            ]
          },
          "metadata": {},
          "execution_count": 29
        }
      ]
    },
    {
      "cell_type": "code",
      "source": [
        "torch.arange(1, 10) #new verison"
      ],
      "metadata": {
        "colab": {
          "base_uri": "https://localhost:8080/"
        },
        "id": "3mAjlcYeJzLG",
        "outputId": "30858dab-3ab7-4702-f83e-6f30fe798525"
      },
      "execution_count": null,
      "outputs": [
        {
          "output_type": "execute_result",
          "data": {
            "text/plain": [
              "tensor([1, 2, 3, 4, 5, 6, 7, 8, 9])"
            ]
          },
          "metadata": {},
          "execution_count": 30
        }
      ]
    },
    {
      "cell_type": "code",
      "source": [
        "one_to_ten = torch.arange(start=0, end = 1000, step = 70)\n",
        "one_to_ten"
      ],
      "metadata": {
        "colab": {
          "base_uri": "https://localhost:8080/"
        },
        "id": "TbtLaLzMJzH8",
        "outputId": "747dc5a6-4096-443a-dc0e-c85e1f315612"
      },
      "execution_count": null,
      "outputs": [
        {
          "output_type": "execute_result",
          "data": {
            "text/plain": [
              "tensor([  0,  70, 140, 210, 280, 350, 420, 490, 560, 630, 700, 770, 840, 910,\n",
              "        980])"
            ]
          },
          "metadata": {},
          "execution_count": 32
        }
      ]
    },
    {
      "cell_type": "code",
      "source": [
        "# creating tensor like\n",
        "ten_zeros = torch.zeros_like(input = one_to_ten)\n",
        "ten_zeros"
      ],
      "metadata": {
        "colab": {
          "base_uri": "https://localhost:8080/"
        },
        "id": "O81cwCSwJzEq",
        "outputId": "5d02d9d1-0262-4b90-fda8-5a926239dfb0"
      },
      "execution_count": null,
      "outputs": [
        {
          "output_type": "execute_result",
          "data": {
            "text/plain": [
              "tensor([0, 0, 0, 0, 0, 0, 0, 0, 0, 0, 0, 0, 0, 0, 0])"
            ]
          },
          "metadata": {},
          "execution_count": 33
        }
      ]
    },
    {
      "cell_type": "code",
      "source": [
        "# tensor datatypes\n",
        "# float 32 tensor\n",
        "# dtype = what datatype is tensor e.g float32, float 16  # precision in computing single precision floating point fp32\n",
        "# tensor dataypes is one of the 3 big errors in PyTorch and Deep Learning\n",
        "# 1. Tensors not right datatype\n",
        "# 2. Tensors not right shape\n",
        "# 3. Tensors not on the right device\n",
        "# device - what device is your tensor is on\n",
        "# required gradients for deep learning backtracking\n",
        "float_32_tensor = torch.tensor([3.0, 6.0, 9.0], dtype = None, device = None, requires_grad=False)\n",
        "float_32_tensor"
      ],
      "metadata": {
        "colab": {
          "base_uri": "https://localhost:8080/"
        },
        "id": "Kz8zqlUKJzBc",
        "outputId": "3f9e3c38-8846-4812-f5dc-76cc7f29f958"
      },
      "execution_count": null,
      "outputs": [
        {
          "output_type": "execute_result",
          "data": {
            "text/plain": [
              "tensor([3., 6., 9.])"
            ]
          },
          "metadata": {},
          "execution_count": 2
        }
      ]
    },
    {
      "cell_type": "code",
      "source": [
        "float_32_tensor.dtype"
      ],
      "metadata": {
        "colab": {
          "base_uri": "https://localhost:8080/"
        },
        "id": "oFk9E-xAO4oV",
        "outputId": "a86ac6c6-5aa2-4435-dfb6-80aabebd4285"
      },
      "execution_count": null,
      "outputs": [
        {
          "output_type": "execute_result",
          "data": {
            "text/plain": [
              "torch.float32"
            ]
          },
          "metadata": {},
          "execution_count": 3
        }
      ]
    },
    {
      "cell_type": "code",
      "source": [
        "float_16_tensor = float_32_tensor.type(torch.float16)\n",
        "float_16_tensor"
      ],
      "metadata": {
        "colab": {
          "base_uri": "https://localhost:8080/"
        },
        "id": "Ko2bt8hDO4kO",
        "outputId": "114d94d1-fc7c-4f69-c344-a4e7ffad1882"
      },
      "execution_count": null,
      "outputs": [
        {
          "output_type": "execute_result",
          "data": {
            "text/plain": [
              "tensor([3., 6., 9.], dtype=torch.float16)"
            ]
          },
          "metadata": {},
          "execution_count": 4
        }
      ]
    },
    {
      "cell_type": "code",
      "source": [
        "(float_32_tensor * float_16_tensor).dtype"
      ],
      "metadata": {
        "colab": {
          "base_uri": "https://localhost:8080/"
        },
        "id": "YFeH-LYUO4gg",
        "outputId": "01cf7e07-d4b9-47de-ff82-f78920cfaeb3"
      },
      "execution_count": null,
      "outputs": [
        {
          "output_type": "execute_result",
          "data": {
            "text/plain": [
              "torch.float32"
            ]
          },
          "metadata": {},
          "execution_count": 7
        }
      ]
    },
    {
      "cell_type": "code",
      "source": [
        "int_32_tensor = torch.tensor([3, 6, 9], dtype = torch.int32)\n",
        "int_32_tensor"
      ],
      "metadata": {
        "colab": {
          "base_uri": "https://localhost:8080/"
        },
        "id": "L21udykKO4cd",
        "outputId": "5cb8df40-be76-48f1-cc50-7f2b01605357"
      },
      "execution_count": null,
      "outputs": [
        {
          "output_type": "execute_result",
          "data": {
            "text/plain": [
              "tensor([3, 6, 9], dtype=torch.int32)"
            ]
          },
          "metadata": {},
          "execution_count": 8
        }
      ]
    },
    {
      "cell_type": "code",
      "source": [
        "float_32_tensor * int_32_tensor"
      ],
      "metadata": {
        "colab": {
          "base_uri": "https://localhost:8080/"
        },
        "id": "RYmpUAPvO4Yf",
        "outputId": "1d7d23db-9759-4971-b24b-7244ce4a2a64"
      },
      "execution_count": null,
      "outputs": [
        {
          "output_type": "execute_result",
          "data": {
            "text/plain": [
              "tensor([ 9., 36., 81.])"
            ]
          },
          "metadata": {},
          "execution_count": 9
        }
      ]
    },
    {
      "cell_type": "code",
      "source": [
        "# getting information from tensors\n",
        "# tensor.dtype - datatype\n",
        "# tensor.shape - shape\n",
        "# tensor.device - device\n",
        "some_tensor = torch.rand(3,4)\n",
        "some_tensor"
      ],
      "metadata": {
        "colab": {
          "base_uri": "https://localhost:8080/"
        },
        "id": "SB47NgtzO4Ua",
        "outputId": "520f9c9f-0522-4f02-f445-41dca60f6488"
      },
      "execution_count": null,
      "outputs": [
        {
          "output_type": "execute_result",
          "data": {
            "text/plain": [
              "tensor([[0.9465, 0.0160, 0.3115, 0.6955],\n",
              "        [0.1729, 0.6126, 0.3924, 0.9627],\n",
              "        [0.6767, 0.7409, 0.0508, 0.3475]])"
            ]
          },
          "metadata": {},
          "execution_count": 10
        }
      ]
    },
    {
      "cell_type": "code",
      "source": [
        "# find out details about some tensor\n",
        "print(some_tensor)\n",
        "print(f\"Datatype of tensor: {some_tensor.dtype}\")\n",
        "print(f\"Shape of tensor: {some_tensor.shape}\")\n",
        "print(f\"Device Tesnor is on: {some_tensor.device}\")"
      ],
      "metadata": {
        "colab": {
          "base_uri": "https://localhost:8080/"
        },
        "id": "oNsc1b-VO4Qq",
        "outputId": "c67e3f65-d4ce-4b0a-822f-75dbb8cddc5d"
      },
      "execution_count": null,
      "outputs": [
        {
          "output_type": "stream",
          "name": "stdout",
          "text": [
            "tensor([[0.9465, 0.0160, 0.3115, 0.6955],\n",
            "        [0.1729, 0.6126, 0.3924, 0.9627],\n",
            "        [0.6767, 0.7409, 0.0508, 0.3475]])\n",
            "Datatype of tensor: torch.float32\n",
            "Shape of tensor: torch.Size([3, 4])\n",
            "Device Tesnor is on: cpu\n"
          ]
        }
      ]
    },
    {
      "cell_type": "code",
      "source": [
        "### Manipulating Tensorsd (tensor operations)\n",
        "\n",
        "# Tensor operations inlcude:\n",
        "# addition\n",
        "# subtraction\n",
        "# multiplication (element-wise)\n",
        "# division\n",
        "# matrix multiplication"
      ],
      "metadata": {
        "id": "VdrrPofEO4M-"
      },
      "execution_count": 1,
      "outputs": []
    },
    {
      "cell_type": "code",
      "source": [
        "# create a tensor\n",
        "tensor = torch.tensor([1, 2,3])\n",
        "tensor + 10"
      ],
      "metadata": {
        "id": "L6kcdHt3O4Fg",
        "colab": {
          "base_uri": "https://localhost:8080/"
        },
        "outputId": "16f893a0-2484-46c8-97e2-964e816925ab"
      },
      "execution_count": 5,
      "outputs": [
        {
          "output_type": "execute_result",
          "data": {
            "text/plain": [
              "tensor([11, 12, 13])"
            ]
          },
          "metadata": {},
          "execution_count": 5
        }
      ]
    },
    {
      "cell_type": "code",
      "source": [
        "# multiplt tensor by 10\n",
        "tensor * 10"
      ],
      "metadata": {
        "id": "JHKc7cuRO4Bj",
        "colab": {
          "base_uri": "https://localhost:8080/"
        },
        "outputId": "a2ef47f2-f54b-4407-d56c-eaaed87a3756"
      },
      "execution_count": 6,
      "outputs": [
        {
          "output_type": "execute_result",
          "data": {
            "text/plain": [
              "tensor([10, 20, 30])"
            ]
          },
          "metadata": {},
          "execution_count": 6
        }
      ]
    },
    {
      "cell_type": "code",
      "source": [
        "tensor = tensor * 10\n",
        "tensor"
      ],
      "metadata": {
        "id": "jFJ_4In-O39O",
        "colab": {
          "base_uri": "https://localhost:8080/"
        },
        "outputId": "3b4a7033-125a-48f7-c217-5c55a550c0a7"
      },
      "execution_count": 7,
      "outputs": [
        {
          "output_type": "execute_result",
          "data": {
            "text/plain": [
              "tensor([10, 20, 30])"
            ]
          },
          "metadata": {},
          "execution_count": 7
        }
      ]
    },
    {
      "cell_type": "code",
      "source": [
        "# subtraction\n",
        "tensor = tensor - 10\n",
        "tensor"
      ],
      "metadata": {
        "id": "caGm3QlZ1yOS",
        "colab": {
          "base_uri": "https://localhost:8080/"
        },
        "outputId": "e5a3e618-042e-45b5-a6c9-0345a79d2e2f"
      },
      "execution_count": 8,
      "outputs": [
        {
          "output_type": "execute_result",
          "data": {
            "text/plain": [
              "tensor([ 0, 10, 20])"
            ]
          },
          "metadata": {},
          "execution_count": 8
        }
      ]
    },
    {
      "cell_type": "code",
      "source": [
        "# try out pytorch in-built functions\n",
        "torch.mul(tensor, 10)"
      ],
      "metadata": {
        "id": "Au1KHNcs1yKd",
        "colab": {
          "base_uri": "https://localhost:8080/"
        },
        "outputId": "c9eab625-7c45-428c-e7e7-96c191bcf95c"
      },
      "execution_count": 9,
      "outputs": [
        {
          "output_type": "execute_result",
          "data": {
            "text/plain": [
              "tensor([  0, 100, 200])"
            ]
          },
          "metadata": {},
          "execution_count": 9
        }
      ]
    },
    {
      "cell_type": "code",
      "source": [
        " torch.add(tensor, 10)"
      ],
      "metadata": {
        "id": "G146Oc5h1yGf",
        "colab": {
          "base_uri": "https://localhost:8080/"
        },
        "outputId": "57631a33-9707-4867-e1d8-0307c2c11594"
      },
      "execution_count": 10,
      "outputs": [
        {
          "output_type": "execute_result",
          "data": {
            "text/plain": [
              "tensor([10, 20, 30])"
            ]
          },
          "metadata": {},
          "execution_count": 10
        }
      ]
    },
    {
      "cell_type": "code",
      "source": [
        "# Multiplication of Matrix\n",
        "# Two main ways of performing multiplication in neural networks and deep learning\n",
        "# 1. element - wise multiplication\n",
        "# 2. multiplying matrix by another matrix (dot product)\n",
        "\n",
        "# element wise multiplication example\n",
        "print(tensor, \"*\", tensor)\n",
        "print(f\"Equals: {tensor * tensor}\")"
      ],
      "metadata": {
        "id": "fGo-4gtV1yCj",
        "colab": {
          "base_uri": "https://localhost:8080/"
        },
        "outputId": "9702bf72-1e6a-421b-b943-ad05a8fcc2ee"
      },
      "execution_count": 12,
      "outputs": [
        {
          "output_type": "stream",
          "name": "stdout",
          "text": [
            "tensor([ 0, 10, 20]) * tensor([ 0, 10, 20])\n",
            "Equals: tensor([  0, 100, 400])\n"
          ]
        }
      ]
    },
    {
      "cell_type": "code",
      "source": [
        "# matrix multiplication\n",
        "torch.matmul(tensor, tensor)"
      ],
      "metadata": {
        "id": "WfMxnShY1x-p",
        "colab": {
          "base_uri": "https://localhost:8080/"
        },
        "outputId": "a2496e15-e9fe-4e38-950d-cec2a1be5f21"
      },
      "execution_count": 13,
      "outputs": [
        {
          "output_type": "execute_result",
          "data": {
            "text/plain": [
              "tensor(500)"
            ]
          },
          "metadata": {},
          "execution_count": 13
        }
      ]
    },
    {
      "cell_type": "code",
      "source": [
        "# matrix mutlplication by hand\n",
        "0 * 0 + 10 * 10 + 20 * 20"
      ],
      "metadata": {
        "id": "AsETQuow1x6m",
        "colab": {
          "base_uri": "https://localhost:8080/"
        },
        "outputId": "cf5f5aa9-44a3-420e-9575-a8cce8a0bfb3"
      },
      "execution_count": 15,
      "outputs": [
        {
          "output_type": "execute_result",
          "data": {
            "text/plain": [
              "500"
            ]
          },
          "metadata": {},
          "execution_count": 15
        }
      ]
    },
    {
      "cell_type": "code",
      "source": [
        "%%time\n",
        "value = 0\n",
        "for i in range(len(tensor)):\n",
        "  value += tensor[i] * tensor[i]\n",
        "\n",
        "value"
      ],
      "metadata": {
        "id": "ZQipfSvX1x2l",
        "colab": {
          "base_uri": "https://localhost:8080/"
        },
        "outputId": "ba522b28-e81b-4949-a2f2-2ca8d63da941"
      },
      "execution_count": 16,
      "outputs": [
        {
          "output_type": "stream",
          "name": "stdout",
          "text": [
            "CPU times: user 1.97 ms, sys: 66 µs, total: 2.04 ms\n",
            "Wall time: 4.4 ms\n"
          ]
        },
        {
          "output_type": "execute_result",
          "data": {
            "text/plain": [
              "tensor(500)"
            ]
          },
          "metadata": {},
          "execution_count": 16
        }
      ]
    },
    {
      "cell_type": "code",
      "source": [
        "%%time\n",
        "torch.matmul(tensor, tensor)"
      ],
      "metadata": {
        "id": "SXgG6IXh1xyv",
        "colab": {
          "base_uri": "https://localhost:8080/"
        },
        "outputId": "401df0db-c15d-45d6-b38c-6fcade383f92"
      },
      "execution_count": 17,
      "outputs": [
        {
          "output_type": "stream",
          "name": "stdout",
          "text": [
            "CPU times: user 490 µs, sys: 30 µs, total: 520 µs\n",
            "Wall time: 346 µs\n"
          ]
        },
        {
          "output_type": "execute_result",
          "data": {
            "text/plain": [
              "tensor(500)"
            ]
          },
          "metadata": {},
          "execution_count": 17
        }
      ]
    },
    {
      "cell_type": "code",
      "source": [
        "# two main rules of matrix multiplication\n",
        "# the inner dimensions must match\n",
        "# (3, 2) @ (2, 3)  will work\n",
        "# (3, 2) @ (3, 2)  won't work\n",
        "torch.matmul(torch.rand(2, 3) , torch.rand(3, 2))\n",
        "# the resulting matrix has the shape of the outer dimensions\n",
        "# (2, 3) @ (3, 2) ->  (2, 2)\n",
        "# (3, 2) @ (2, 3) -> (3, 3)\n",
        "torch.matmul(torch.rand(3, 2), torch.rand(2, 3)).shape\n",
        "# shapes for matrix multiplication\n",
        "tensor_A = torch.tensor([[1, 2],\n",
        "                         [3, 4],\n",
        "                         [5, 6]])\n",
        "tensor_B = torch.tensor([[7, 10],\n",
        "                         [8, 11],\n",
        "                         [9, 12]])\n",
        "# torch.mm(tensor_A, tensor_B) # torch.mm is the same as torch.matmul\n",
        "torch.matmul(tensor_A, tensor_B)\n",
        "tensor_A.shape, tensor_B.shape\n",
        "# to fix tensor shape issues we can manipluate the shape of one of the tensors using transpose\n",
        "# a transpose is the switches the axes or dimensions of a given tensor\n",
        "tensor_B.T, tensor_B\n",
        "tensor_B.T.shape, tensor_B.shape\n",
        "torch.matmul(tensor_A, tensor_B.T)\n",
        "torch.matmul(tensor_A, tensor_B.T).shape\n"
      ],
      "metadata": {
        "id": "MFSx8tCU1xuy"
      },
      "execution_count": null,
      "outputs": []
    },
    {
      "cell_type": "code",
      "source": [
        "# finding the min, max, mean, sum, etc (tensor aggregation)\n",
        "x = torch.arange(0, 100, 10)\n",
        "torch.min(x), x.min()\n",
        "torch.max(x), x.max()\n",
        "torch.mean(x)\n",
        "torch.mean(x.type(torch.float32))\n",
        "# note torch.mean requires a tensor of float 32 datatype to work\n",
        "torch.sum(x), x.sum()"
      ],
      "metadata": {
        "id": "PBtY3Pde1xq2"
      },
      "execution_count": null,
      "outputs": []
    },
    {
      "cell_type": "code",
      "source": [
        "# finding the positional min and max\n",
        "x.argmin(), x.argmax()\n",
        "# returns index position of tensor where min and max occurs"
      ],
      "metadata": {
        "id": "tLXK8kdu1xnG"
      },
      "execution_count": null,
      "outputs": []
    },
    {
      "cell_type": "code",
      "source": [
        "# reshaping, stacking, squeezing and unsqueezing tensor\n",
        "# reshaping - reshape an input tensor to a defined shape\n",
        "# view - return a view of an input tensor of certain shape but keep the same memory as the orignal tensor\n",
        "# stacking - combine multiple tensors on top of each other (vstack) (hstack)\n",
        "# Squeeze - removes all '1' dimension from a tensor\n",
        "# Unsqueeze - add a '1' dimension to a target tensor\n",
        "# permute - return a view of the input with dimensions permuted in a certain way\n",
        "\n",
        "x = torch.arange(1, 10)\n",
        "x_reshaped = x.reshape(1, 7)\n",
        "x_reshaped, x_reshaped.shape\n",
        "x_reshaped = x.reshape(1, 9)\n",
        "x_reshaped, x_reshaped.shape\n",
        "x_reshaped = x.reshape(9, 1)\n",
        "x_reshaped, x_reshaped.shape\n",
        "\n",
        "x = torch.arange(1, 10)\n",
        "x_reshaped = x.reshpe(2, 5)\n",
        "\n",
        "# change the view\n",
        "z = x.view(1, 9)\n",
        "z.shape\n",
        "# changing z changes x ( because a view of a tensor shares the same memory as the orignal memory of x)\n",
        "\n",
        "# stacking\n",
        "# stack tensor on top of each other\n",
        "x_stacked = torch.stack([x, x, x,x], dim = 0)\n",
        "x_stacked\n",
        "\n",
        "x_stacked = torch.stack([x, x, x, x], dim = 1)\n",
        "x_stacked\n",
        "\n",
        "# Squeeze\n",
        "x_squeeze = torch.squeeze(x)\n",
        "# removes all single dimensions\n",
        "\n",
        "# unsqueeze\n",
        "x_unsqueeze = torch.unsqueeze(x)\n",
        "# adds a single dimensions\n",
        "\n",
        "# permute rearranges the dimensions of a target tensors in a specified order\n",
        "x_permuted =  torch.permute(10, 1)\n",
        "x_orginal = torch.rand(size=(224, 224, 3))\n",
        "# permute the orginial tnesor to rearrange the axis or dim order\n",
        "x_perumte = torch.permute(2, 0, 1) # shifts axis 0 - > 1, 1 -> 2, 2 - > 0\n",
        "\n",
        "print(f\"pervious shape: {x_orginal.shape}\")\n",
        "print(f\"new shape: {x_permuted.shape}\")\n",
        "\n"
      ],
      "metadata": {
        "id": "kDStM8BO1xi4"
      },
      "execution_count": null,
      "outputs": []
    },
    {
      "cell_type": "code",
      "source": [
        "# selecting the data from tensors indexing\n",
        "# indexing with pytorch is similar to indexing with numpy\n",
        "\n",
        "# create a tensor\n",
        "x = torch.arange(1, 10).reshpae(1, 3, 3)\n",
        "x.shape\n",
        "# let's index on tensor\n",
        "x[0] # o dim\n",
        "# index on middle bracket dim = 1\n",
        "x[0, 0] # or x[0][0]\n",
        "# index on most inner brack last dimension\n",
        "x[0][0][0]\n",
        "# you can also use \":\" to select all of a target dimension\n",
        "x[:, 0]\n",
        "# get all values of 0th  and 1st dim a but only index of 1 of 2nd dimension\n",
        "x[:, :, 1]\n",
        "# get all values of 0 dim but only the 1 index value of 1st and 2nd dim\n",
        "x[:, 1, 1]\n",
        "# get index of 0 and 0th and 1st dim and all values of 2nd dim\n",
        "x[0, 0, :]\n"
      ],
      "metadata": {
        "id": "9A1ejpf11xfD"
      },
      "execution_count": null,
      "outputs": []
    },
    {
      "cell_type": "code",
      "source": [
        "### PyTorch tensors & NumPy\n",
        "# numpy is a popular scientific python numerical computing library\n",
        "# and because of this, PyTorch has fuunctionality to interact with it\n",
        "# data in NumPy, want in PyTorch tensor -> torch.from_numpy(ndarray)\n",
        "# PyTorch tensor -> NumPy -> torch.Tensor.numpy()\n",
        "\n",
        "# NumPy array to tensor\n",
        "import torch\n",
        "import numpy as np\n",
        "\n",
        "array = np.arange(1.0, 8.0)\n",
        "tensor = torch.from_numpy(array)\n",
        "array, tensor\n",
        "\n",
        "array.dtype\n",
        "\n",
        "# when converting from numpy -> pytotch reflects numpy's default datatype\n",
        "\n",
        "# change the value of array, what will do this do to 'tensor'?\n",
        "array += 1\n",
        "array, tensor\n",
        "\n",
        "# tensor to NumPy array\n",
        "tensor = torch.ones(7)\n",
        "numpy_tensor = tensor.numpy()\n",
        "tensor, numpy_tensor\n",
        "\n",
        "numpy_tensor.dtype\n",
        "\n",
        "#change the tensor, what happens to numpy_tensor\n",
        "tensor = tensor + 1\n",
        "tensor, numpy_tensor\n",
        "\n"
      ],
      "metadata": {
        "id": "JlWCF7kn1xbN"
      },
      "execution_count": null,
      "outputs": []
    },
    {
      "cell_type": "code",
      "source": [
        "# reproducbility trying to take random out of random\n",
        "# in short how a neural network learns:\n",
        "# start with random numbers -> tensor operations -> update random numbers to try and\n",
        "# make them of the dat -> again -> again -> again..\n",
        "\n",
        "# to reduce the randomness in neural networks and PyTorch comes the concept of a\n",
        "# random seed\n",
        "# what the random seed does is \"flavour\" the randomness.\n",
        "\n",
        "# create two random tensors\n",
        "random_tensor_A, random_tensor_B = torch.rand(3, 4), torch.rand(3, 4)\n",
        "print(random_tensor_A ==  random_tensor_B)\n",
        "\n",
        "# some random but reproducible tensors\n",
        "# set the random seed\n",
        "torch.manual_seed(42)\n",
        "random_tensor_C = torch.rand(3, 4)\n",
        "torch.manual_seed(42)\n",
        "random_tensor_D = torch.rand(3, 4)\n",
        "print(random_tensor_C == random_tensor_D)\n",
        "\n"
      ],
      "metadata": {
        "id": "PwF0L9kv1xW-"
      },
      "execution_count": null,
      "outputs": []
    },
    {
      "cell_type": "code",
      "source": [
        "# running tensors and PyTorch obnjects on the GPUs (and making faster computations)\n",
        "# GPUs = Fatser computation on numbers, thanks to CUDA + NVIDIA hardware + PyTorch working behind the scenes to make everything fast\n",
        "# getting a GPU\n",
        "# easy use googel colab for a GPU\n",
        "# use your own GPU\n",
        "# use cloud computing - GCP, AWS, Azure\n",
        "# check for GPu with PyTorch\n",
        "# torch.cuda.isavaialable()\n",
        "# device = \"cuda\"\n",
        "device = \"cuda\" if torch.cuda.is_available() else \"cpu\"\n",
        "# count number of devices\n",
        "torch.cuda.device_count()\n",
        "\n",
        "#putting tensors and models on the GPU - why?\n",
        "# The reason we want our tensors ands models on the GPU is because using a GPU results in fatser omputations\n",
        "# create a tensor default on GPU\n",
        "tensor = torch.tensor([1, 2, 3])\n",
        "print(tesnor, tensor.device)\n",
        "\n",
        "# change to GPU\n",
        "tensor_on_gpu = tensor.to(device)\n",
        "tensor_on_gpu\n",
        "\n",
        " # moving tensors back to cpu  , tenor on gpu can't tansform it to NumPy - NumPy does not work with GPU\n",
        " tensor_on_cpu = tensor_on_gpu.to(\"cpu\") # or tensor_on_gpu.cpu().numpy()\n",
        " tensor_on_cpu\n"
      ],
      "metadata": {
        "id": "rzsarkWB1xO_"
      },
      "execution_count": null,
      "outputs": []
    },
    {
      "cell_type": "code",
      "source": [
        "# Excerises and extra curriculum\n",
        "# random tensor shape 7, 7\n"
      ],
      "metadata": {
        "id": "zbsH8gZj1xKp"
      },
      "execution_count": null,
      "outputs": []
    },
    {
      "cell_type": "code",
      "source": [],
      "metadata": {
        "id": "S3xsLvsM1xGR"
      },
      "execution_count": null,
      "outputs": []
    },
    {
      "cell_type": "code",
      "source": [],
      "metadata": {
        "id": "duGQ4wf51xCT"
      },
      "execution_count": null,
      "outputs": []
    },
    {
      "cell_type": "code",
      "source": [],
      "metadata": {
        "id": "SfG_LdSA1w97"
      },
      "execution_count": null,
      "outputs": []
    },
    {
      "cell_type": "code",
      "source": [],
      "metadata": {
        "id": "K83XIEWJ1w54"
      },
      "execution_count": null,
      "outputs": []
    },
    {
      "cell_type": "code",
      "source": [],
      "metadata": {
        "id": "5Z1YJZlo1w1n"
      },
      "execution_count": null,
      "outputs": []
    },
    {
      "cell_type": "code",
      "source": [],
      "metadata": {
        "id": "2ThITVzv1wxO"
      },
      "execution_count": null,
      "outputs": []
    },
    {
      "cell_type": "code",
      "source": [],
      "metadata": {
        "id": "ADivyjqd1wtC"
      },
      "execution_count": null,
      "outputs": []
    },
    {
      "cell_type": "code",
      "source": [],
      "metadata": {
        "id": "FVML0cMwNu63"
      },
      "execution_count": null,
      "outputs": []
    },
    {
      "cell_type": "code",
      "source": [],
      "metadata": {
        "id": "KqKX0sliNu4T"
      },
      "execution_count": null,
      "outputs": []
    },
    {
      "cell_type": "code",
      "source": [],
      "metadata": {
        "id": "nW2YOJpBNu1-"
      },
      "execution_count": null,
      "outputs": []
    },
    {
      "cell_type": "code",
      "source": [],
      "metadata": {
        "id": "_F2x3rMsNuzk"
      },
      "execution_count": null,
      "outputs": []
    },
    {
      "cell_type": "code",
      "source": [],
      "metadata": {
        "id": "tDgp_R_jNuxV"
      },
      "execution_count": null,
      "outputs": []
    },
    {
      "cell_type": "code",
      "source": [],
      "metadata": {
        "id": "Xy8Ygc2FNuuo"
      },
      "execution_count": null,
      "outputs": []
    },
    {
      "cell_type": "code",
      "source": [],
      "metadata": {
        "id": "n3ljkg0MNusD"
      },
      "execution_count": null,
      "outputs": []
    },
    {
      "cell_type": "code",
      "source": [],
      "metadata": {
        "id": "1sHghOjjNupP"
      },
      "execution_count": null,
      "outputs": []
    }
  ]
}